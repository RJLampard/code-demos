{
 "cells": [
  {
   "cell_type": "markdown",
   "metadata": {},
   "source": [
    "![UKDS Logo](./images/UKDS_Logos_Col_Grey_300dpi.png)"
   ]
  },
  {
   "cell_type": "markdown",
   "metadata": {},
   "source": [
    "# Introduction to Python for Social Scientists"
   ]
  },
  {
   "cell_type": "markdown",
   "metadata": {},
   "source": [
    "## Vocabulary\n",
    "\n",
    "Like learning any new language (spoken or programming), much of the difficulty arises from getting to grips with an unfamiliar vocabulary. The following are some general programming terms, adapted from Brooker (2020), that are worth keeping in mind as you progress on your computational oddysey:\n",
    "\n",
    "* Programming language - a means of interacting with and issuing instructions to a computer.\n",
    "* Programming - the practice of using a programming language (also known as *coding*).\n",
    "* Code - the written down instructions that result from programming.\n",
    "* Script - a collection of code.\n",
    "* Shell - a tool that allows you to write and execute code. You may be wondering what the difference is between a script and a shell.  [analogy: window in an office (shell) versus and online form (script) when applying for a passport]\n",
    "* Debugging - fixing errors or issues with your code.\n",
    "* Testing - the process of discovering errors or issues with your code."
   ]
  },
  {
   "cell_type": "markdown",
   "metadata": {},
   "source": [
    "## Python\n",
    "\n",
    "Python is an open-source, general purpose, high level and extensible programming language. These terms may be unfamiliar, especially in this context, so let's take them one-by-one:\n",
    "\n",
    "**Open source** - the source code that underpins Python is freely available for others to use, modify and share, as long as these activities comply with the <a href=\"https://docs.python.org/3/license.html\" target=_blank>license</a>. Watch this neat <a href=\"https://www.youtube.com/watch?v=Tyd0FO0tko8\" target=_blank>overview</a> of open-source software to learn more.\n",
    "\n",
    "**General purpose** - Python can be used for a multitude of activities, such as web development, scientific computing, software development, system administration, and more.\n",
    "\n",
    "**High level** - the way Python is written is highly abstracted from the language your machine users to send, receive and store information. Computers receive instructions in a language called *binary*, which is a series of 1s and 0s that represent a range of characters. For example, here is my name (\"Diarmuid\") represented as binary: <br><br>01000100 01101001 01100001 01110010 01101101 01110101 01101001 01100100\n",
    "\n",
    "The first sequence of 8 bits (known as a \"byte\") represents the letter \"D\", the second sequence the letter \"i\" and so on. It would be difficult and tedious in the extreme to write programming code in sequences of binary, hence the creation of high-level languages that are easier to read, write and understand by humans.\n",
    "\n",
    "**Extensible** - Python's functionality, capabilities and range of uses can be expanded. This is often achieved through the creation and sharing of additional, open-source add-ons (known as *packages*). For example, the `BeautifulSoup` module was created to enable Python users to extract information from web pages. "
   ]
  },
  {
   "cell_type": "markdown",
   "metadata": {},
   "source": [
    "## Bibliography\n",
    "\n",
    "BBC Bitesize. https://www.bbc.co.uk/bitesize/guides/z2342hv/revision/2"
   ]
  },
  {
   "cell_type": "code",
   "execution_count": null,
   "metadata": {},
   "outputs": [],
   "source": []
  }
 ],
 "metadata": {
  "kernelspec": {
   "display_name": "Python 3",
   "language": "python",
   "name": "python3"
  },
  "language_info": {
   "codemirror_mode": {
    "name": "ipython",
    "version": 3
   },
   "file_extension": ".py",
   "mimetype": "text/x-python",
   "name": "python",
   "nbconvert_exporter": "python",
   "pygments_lexer": "ipython3",
   "version": "3.7.3"
  },
  "toc": {
   "base_numbering": 1,
   "nav_menu": {},
   "number_sections": true,
   "sideBar": false,
   "skip_h1_title": true,
   "title_cell": "Table of Contents",
   "title_sidebar": "Contents",
   "toc_cell": false,
   "toc_position": {},
   "toc_section_display": true,
   "toc_window_display": false
  }
 },
 "nbformat": 4,
 "nbformat_minor": 4
}
